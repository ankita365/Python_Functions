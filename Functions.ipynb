{
  "nbformat": 4,
  "nbformat_minor": 0,
  "metadata": {
    "colab": {
      "provenance": []
    },
    "kernelspec": {
      "name": "python3",
      "display_name": "Python 3"
    },
    "language_info": {
      "name": "python"
    }
  },
  "cells": [
    {
      "cell_type": "markdown",
      "source": [
        "THEORY QUESTIONS\n",
        "\n",
        "Q1.  What is the difference between a function and a method in Python?\n",
        "\n",
        "A1. A function is a reusable block of code that performs a specific function and returns the required solution. They are written with the help of the 'def' keyword and are defined and called by the coder as per requirement.\n",
        "\n",
        "On the other hand, method is similar to a function, but they are associated within an object and are defined within a class. A method has the parameter 'self' in it that refers to the instance of theat class.\n",
        "\n",
        "Examples of function and method are given below."
      ],
      "metadata": {
        "id": "B1SweNLq9clm"
      }
    },
    {
      "cell_type": "code",
      "source": [
        "def add(a, b):#Example of function\n",
        "  return a + b\n",
        "result = add(5, 3)\n",
        "print(result)"
      ],
      "metadata": {
        "colab": {
          "base_uri": "https://localhost:8080/"
        },
        "id": "CtxgOU8rO-yW",
        "outputId": "e6dd57ad-a5c6-451c-f6cb-a1b37cbd8ffd"
      },
      "execution_count": null,
      "outputs": [
        {
          "output_type": "stream",
          "name": "stdout",
          "text": [
            "8\n"
          ]
        }
      ]
    },
    {
      "cell_type": "code",
      "source": [
        "#Example of method\n",
        "class Calculator:\n",
        "  def add(self, a, b):\n",
        "    return a + b\n",
        "calc = Calculator()\n",
        "result = calc.add(5, 3)\n",
        "print(result)"
      ],
      "metadata": {
        "id": "ZJHXyXogPH2i"
      },
      "execution_count": null,
      "outputs": []
    },
    {
      "cell_type": "markdown",
      "source": [
        "Q2. Explain the concept of function arguments and parameters in Python.\n",
        "\n",
        "A2. Parameters are the valies that are defined within the paranthesis adjacent to the function name during the function definition, along with the 'def' keyword. On the other hand, arguments are also defined within parenthesis, but are called during the function calling mechanism. They are passed into the function or method as an input."
      ],
      "metadata": {
        "id": "I1sQCqFwPaTD"
      }
    },
    {
      "cell_type": "code",
      "source": [
        "#Examples of function parameters and arguments in python\n",
        "def sum(a,b):#parameters\n",
        "  print(a+b)\n",
        "\n",
        "sum(1,2)#arguments"
      ],
      "metadata": {
        "colab": {
          "base_uri": "https://localhost:8080/"
        },
        "id": "y_Frg8ObS8nD",
        "outputId": "7c9b80f3-0989-4aaa-eab4-18e138dd9e15"
      },
      "execution_count": null,
      "outputs": [
        {
          "output_type": "stream",
          "name": "stdout",
          "text": [
            "3\n"
          ]
        }
      ]
    },
    {
      "cell_type": "markdown",
      "source": [
        "Q3. What are the different ways to define and call a function in Python?\n",
        "\n",
        "A3. Defining a function:\n",
        "\n",
        "1. By using 'def' keyword: This keyword is used to define a function along with the function name and the parameters. The syntax defining a function using 'def' keyword is as follows:\n",
        "\n",
        "def function_name(parameter1,parameter2,parameter3)\n",
        "\n",
        "2. By using 'lambda' keyword: This is a more simplified way of defining a function. It can be done in a single line and more specifically used when the function returns a single value and the fuction can be written in a simplified format in a single line. Also the return value can be stored in a single variable. The syntax of using the 'lambda' keyword is as follows.\n",
        "\n",
        "'variable_name'=lambda 'parameter1','parameter2'=function_body\n",
        "\n",
        "Calling a function: A function can be called simply by typing the name of the function followed by a parenthesis. The parenthesis should be empty if there are no parameters in the function that is called. But if there are parameters, then arguments should be passed in the parenthesis. the arguments should be the variable names or the values on which coder wants to perform the operation that is there within the function body."
      ],
      "metadata": {
        "id": "0sQJ_8WYTWOJ"
      }
    },
    {
      "cell_type": "code",
      "source": [
        "#Examples\n",
        "def if_even(num): #defining a function using def keyword\n",
        "  if(num%2==0):\n",
        "    return True\n",
        "  else:\n",
        "    return False\n",
        "print(if_even(56))#calling a function"
      ],
      "metadata": {
        "colab": {
          "base_uri": "https://localhost:8080/"
        },
        "id": "3yj3Wixb1I0Q",
        "outputId": "d9807f6b-5dfe-40f7-ea09-5ed78eeec62e"
      },
      "execution_count": null,
      "outputs": [
        {
          "output_type": "stream",
          "name": "stdout",
          "text": [
            "True\n"
          ]
        }
      ]
    },
    {
      "cell_type": "code",
      "source": [
        "#defining a function using lambda keyword\n",
        "x=lambda n: True if n%2==0 else False#defining a function using lambda keyword\n",
        "print(x(67))"
      ],
      "metadata": {
        "colab": {
          "base_uri": "https://localhost:8080/"
        },
        "id": "p-3gt8T1tPDD",
        "outputId": "96833b7d-539e-432a-9aec-2f30de8052a7"
      },
      "execution_count": null,
      "outputs": [
        {
          "output_type": "stream",
          "name": "stdout",
          "text": [
            "False\n"
          ]
        }
      ]
    },
    {
      "cell_type": "markdown",
      "source": [
        "Q4. What is the purpose of the `return` statement in a Python function?\n",
        "\n",
        "A4. A return statement essentially returns the value of the function to the caller of the function and also returns the control of the program to the main code. In this way the return statement also terminates the execution of a function. A function can only return one value or variable."
      ],
      "metadata": {
        "id": "gYKJbINNtWCs"
      }
    },
    {
      "cell_type": "code",
      "source": [
        "#Example of return statement\n",
        "def add(a,b):\n",
        "  sum=a+b\n",
        "  return sum #return statement\n",
        "num1,num2=67,98\n",
        "result=add(num1,num2)\n",
        "print(result)"
      ],
      "metadata": {
        "colab": {
          "base_uri": "https://localhost:8080/"
        },
        "id": "H0dc8iEVtXXp",
        "outputId": "ebf9c55c-7102-45fb-ab86-59ca8761c5fa"
      },
      "execution_count": null,
      "outputs": [
        {
          "output_type": "stream",
          "name": "stdout",
          "text": [
            "165\n"
          ]
        }
      ]
    },
    {
      "cell_type": "markdown",
      "source": [
        "Q5. What are iterators in Python and how do they differ from iterables?\n",
        "\n",
        "A5.Iterables are objects that can be iterated over and can be passed through the method iter() to generate and iterator. Om the other hand, iterator is an object which is used to iterate over an iterable object using the finction next()."
      ],
      "metadata": {
        "id": "6DnJzdhitj_t"
      }
    },
    {
      "cell_type": "code",
      "source": [
        "#Example of iterator and iterable\n",
        "l=[1,2,3,4]#list is an iterable\n",
        "a=iter(l) #iterator\n",
        "next(a)"
      ],
      "metadata": {
        "colab": {
          "base_uri": "https://localhost:8080/"
        },
        "id": "RtenS681n-vI",
        "outputId": "de35e9ed-d5b7-4cae-83be-649f26ad3300"
      },
      "execution_count": 1,
      "outputs": [
        {
          "output_type": "execute_result",
          "data": {
            "text/plain": [
              "1"
            ]
          },
          "metadata": {},
          "execution_count": 1
        }
      ]
    },
    {
      "cell_type": "code",
      "source": [
        "next(a)"
      ],
      "metadata": {
        "colab": {
          "base_uri": "https://localhost:8080/"
        },
        "id": "OZ4AUG58oGHY",
        "outputId": "8dfe0965-f4e9-4088-b0ca-13a24de6b16b"
      },
      "execution_count": 2,
      "outputs": [
        {
          "output_type": "execute_result",
          "data": {
            "text/plain": [
              "2"
            ]
          },
          "metadata": {},
          "execution_count": 2
        }
      ]
    },
    {
      "cell_type": "code",
      "source": [
        "next(a)"
      ],
      "metadata": {
        "colab": {
          "base_uri": "https://localhost:8080/"
        },
        "id": "YPMZt8myoIz6",
        "outputId": "ef897e0d-a23d-41db-cd61-d78314ff7b61"
      },
      "execution_count": 3,
      "outputs": [
        {
          "output_type": "execute_result",
          "data": {
            "text/plain": [
              "3"
            ]
          },
          "metadata": {},
          "execution_count": 3
        }
      ]
    },
    {
      "cell_type": "markdown",
      "source": [
        "Q6. . Explain the concept of generators in Python and how they are defined.\n",
        "\n",
        "A6. A generator is a function which creates iterators and allows step by step operation on each element of the iterable. Additionally, it generated the next element of the iterable object when called through the next() method. A generator uses the 'yield' keyword instead of the 'return' statement."
      ],
      "metadata": {
        "id": "4y8C_nX6uWZR"
      }
    },
    {
      "cell_type": "code",
      "source": [
        "#Example of generators\n",
        "def square(l):\n",
        "  for i in range(1,len(l)):\n",
        "    sq=i**2\n",
        "    yield sq\n",
        "lis=[1,2,3,4,5,6]\n",
        "a=square(lis)\n",
        "next(a)"
      ],
      "metadata": {
        "colab": {
          "base_uri": "https://localhost:8080/"
        },
        "id": "mEp-qWXGoQJu",
        "outputId": "9aa6b650-d59a-417e-d167-c66b2e46dac4"
      },
      "execution_count": 4,
      "outputs": [
        {
          "output_type": "execute_result",
          "data": {
            "text/plain": [
              "1"
            ]
          },
          "metadata": {},
          "execution_count": 4
        }
      ]
    },
    {
      "cell_type": "code",
      "source": [
        "next(a)"
      ],
      "metadata": {
        "colab": {
          "base_uri": "https://localhost:8080/"
        },
        "id": "Mx7Y3VJSoVii",
        "outputId": "ede941d2-82b9-4067-da87-8df4d8c381e6"
      },
      "execution_count": 5,
      "outputs": [
        {
          "output_type": "execute_result",
          "data": {
            "text/plain": [
              "4"
            ]
          },
          "metadata": {},
          "execution_count": 5
        }
      ]
    },
    {
      "cell_type": "code",
      "source": [
        "next(a)"
      ],
      "metadata": {
        "colab": {
          "base_uri": "https://localhost:8080/"
        },
        "id": "-AvhpqZgoXWc",
        "outputId": "912d32f5-582c-4dc8-b7fb-06e018f0a729"
      },
      "execution_count": 6,
      "outputs": [
        {
          "output_type": "execute_result",
          "data": {
            "text/plain": [
              "9"
            ]
          },
          "metadata": {},
          "execution_count": 6
        }
      ]
    },
    {
      "cell_type": "code",
      "source": [
        "next(a)"
      ],
      "metadata": {
        "colab": {
          "base_uri": "https://localhost:8080/"
        },
        "id": "DBY75zZ8oZE1",
        "outputId": "4bd98be1-7463-4b26-bd71-f0fd2b2088dc"
      },
      "execution_count": 7,
      "outputs": [
        {
          "output_type": "execute_result",
          "data": {
            "text/plain": [
              "16"
            ]
          },
          "metadata": {},
          "execution_count": 7
        }
      ]
    },
    {
      "cell_type": "markdown",
      "source": [
        "Q7. What are the advantages of using generators over regular functions?\n",
        "\n",
        "A7. A generators yields each value of the iterable for each time it is called through the next() method. On the other hand, a normal function would perform the operation on all the elements of the iterable and return the modified iterable st one single step. The primary advantage of generators over function falls under ths aspect, since using a generator improves the efficiency and the time complexity of the entire code, thus improving user experience. Also, using generators has proven to be more helpful in terms of handling large data sets of various organisations."
      ],
      "metadata": {
        "id": "spm7oeWTuX9j"
      }
    },
    {
      "cell_type": "markdown",
      "source": [
        "Q8. What is a lambda function in Python and when is it typically used?\n",
        "\n",
        "A8. A lambda function in python is another technique to define a function without using the 'def' keyword or the 'return' statement. It is specifically used for simplistic funtions that can be executed through a single line or through a single condition. It makes the over all code efficient and improves the over all time and space complexity of the program."
      ],
      "metadata": {
        "id": "SKYyp462ogf0"
      }
    },
    {
      "cell_type": "code",
      "source": [
        "#Examples of using the lambda function\n",
        "x = lambda a : a + 10\n",
        "print(x(5))"
      ],
      "metadata": {
        "colab": {
          "base_uri": "https://localhost:8080/"
        },
        "id": "q7VzzyXlooJb",
        "outputId": "52af3abf-25fe-4fb7-f2ba-44478b46c0b4"
      },
      "execution_count": 8,
      "outputs": [
        {
          "output_type": "stream",
          "name": "stdout",
          "text": [
            "15\n"
          ]
        }
      ]
    },
    {
      "cell_type": "markdown",
      "source": [
        "Q9. Explain the purpose and usage of the `map()` function in Python.\n",
        "\n",
        "A9. Map function is used to  map through each of the elements of the iterable so as to perform a particular operation on each item of the iterable.  It makes the over all code efficient and improves the over all time and space complexity of the program. A map() function takes two arguments namely a function and an iterable. It enables the coder to perform the operation stated within the funtion in the argument on each of the item of the iterable."
      ],
      "metadata": {
        "id": "OPBVCDgsuWK-"
      }
    },
    {
      "cell_type": "code",
      "source": [
        "#Example of the map function\n",
        "lis=[1,2,3,4,5,6,7,8,9,10]\n",
        "l=list(map((lambda x:x*x),lis))#map function uses a lambda function to return the square of a number and maps it through each element of the list(iterable)\n",
        "print(l)\n"
      ],
      "metadata": {
        "colab": {
          "base_uri": "https://localhost:8080/"
        },
        "id": "ImBa68Atov-N",
        "outputId": "ca84cb91-988f-4a69-924c-de1f58f191d4"
      },
      "execution_count": 9,
      "outputs": [
        {
          "output_type": "stream",
          "name": "stdout",
          "text": [
            "[1, 4, 9, 16, 25, 36, 49, 64, 81, 100]\n"
          ]
        }
      ]
    },
    {
      "cell_type": "markdown",
      "source": [
        "Q10. What is the difference between `map()`, `reduce()`, and `filter()` functions in Python?\n",
        "\n",
        "A10. map(func, iterable): A map function performs the operation states in the function on each element of the iterable. It can return an iterable (based on the data type mentioned by the coder) comprising of each of the operated element from the orginal iterable.\n",
        "\n",
        "reduce(func, iterable): A reduce() function reduces all the value of the iterable to a single value. It takes two elements of the iterable each time and performs the operation within the function. The resultant of the first operation and the third element becomes the next 2 sets of argument for the subsequent operation. In this way reduce () function operates until all the elements of the iterables are exhausted. Also the function defined in the reduce() function 2 arguments.\n",
        "\n",
        "filter(func, iterable): The function defined within the filter function should have a boolean return type. The filter function eliminates the elements of the iterable that does not return true with respect to the given function and returns the filtered out compilation of the iterable."
      ],
      "metadata": {
        "id": "Yz53K2I4oz4N"
      }
    },
    {
      "cell_type": "code",
      "source": [
        "#Example of map(),reduce(), and filter()\n",
        "from functools import reduce\n",
        "lis=[1,2,3,4,5,6,7,8,9,10]\n",
        "l=list(map((lambda x:x*x),lis))#map function uses a lambda function to return the square of a number and maps it through each element of the list(iterable)\n",
        "print(l)\n",
        "l1=reduce((lambda x,y:x+y),lis)#reduce function to return the sum of the elements of the list\n",
        "print(l1)\n",
        "l2=list(filter((lambda x: True if(x%2==0) else False),lis))#filter function to return the even numbers in the list\n",
        "print(l2)"
      ],
      "metadata": {
        "colab": {
          "base_uri": "https://localhost:8080/"
        },
        "id": "Z6_kcxuzo2-T",
        "outputId": "d9506431-512a-4842-869d-ecd5643e6fca"
      },
      "execution_count": 10,
      "outputs": [
        {
          "output_type": "stream",
          "name": "stdout",
          "text": [
            "[1, 4, 9, 16, 25, 36, 49, 64, 81, 100]\n",
            "55\n",
            "[2, 4, 6, 8, 10]\n"
          ]
        }
      ]
    },
    {
      "cell_type": "markdown",
      "source": [
        "Q11.  Using pen & Paper write the internal mechanism for sum operation using  reduce function on this given\n",
        "list:[47,11,42,13]\n",
        "\n",
        "![photo_6199725175575004212_y.jpg](data:image/jpeg;base64,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)"
      ],
      "metadata": {
        "id": "h8FeiWPVo8ZA"
      }
    },
    {
      "cell_type": "code",
      "source": [
        "from functools import reduce\n",
        "lis=[47,11,42,13]\n",
        "sum=reduce(lambda x,y:x+y,lis)\n",
        "print(sum)"
      ],
      "metadata": {
        "colab": {
          "base_uri": "https://localhost:8080/"
        },
        "id": "ecBZzPq7po2n",
        "outputId": "e47c9aa4-0047-49e3-f9ef-93b7854cdcee"
      },
      "execution_count": 11,
      "outputs": [
        {
          "output_type": "stream",
          "name": "stdout",
          "text": [
            "113\n"
          ]
        }
      ]
    },
    {
      "cell_type": "code",
      "source": [
        "#PRACTICAL QUESTIONS\n",
        "#1.  Write a Python function that takes a list of numbers as input and returns the sum of all even numbers in\n",
        "#the list\n",
        "\n",
        "def sum_even(lis):\n",
        "  sum=0\n",
        "  for i in lis:\n",
        "    if i%2==0: sum+=i\n",
        "  return sum\n",
        "l=[11,22,33,44,34,55,66,77,88]\n",
        "print(\"The list is: \",l)\n",
        "print(\"The sum of all the even number in the list is:\", sum_even(l))"
      ],
      "metadata": {
        "colab": {
          "base_uri": "https://localhost:8080/"
        },
        "id": "6cthDZeh3NH0",
        "outputId": "12391b29-ea5b-4669-fb48-c73560d33f86"
      },
      "execution_count": null,
      "outputs": [
        {
          "output_type": "stream",
          "name": "stdout",
          "text": [
            "The list is:  [11, 22, 33, 44, 34, 55, 66, 77, 88]\n",
            "The sum of all the even number in the list is: 254\n"
          ]
        }
      ]
    },
    {
      "cell_type": "code",
      "source": [
        "#2. Create a Python function that accepts a string and returns the reverse of that string\n",
        "\n",
        "def str_reverse(s):\n",
        "  return s[::-1]\n",
        "str1=input(\"Enter a string: \")\n",
        "rev=str_reverse(str1)\n",
        "print(\"The reverse of the string is: \",rev)"
      ],
      "metadata": {
        "colab": {
          "base_uri": "https://localhost:8080/"
        },
        "id": "pHpV4aiq4Ddy",
        "outputId": "5862dad4-fd9d-4528-97cf-96386f09ad0b"
      },
      "execution_count": null,
      "outputs": [
        {
          "output_type": "stream",
          "name": "stdout",
          "text": [
            "Enter a string: PINEAPPLE\n",
            "The reverse of the string is:  ELPPAENIP\n"
          ]
        }
      ]
    },
    {
      "cell_type": "code",
      "source": [
        "#3.  Implement a Python function that takes a list of integers and returns a new list containing the squares of\n",
        "#each number\n",
        "\n",
        "def square(lis):\n",
        "  l=[]\n",
        "  for i in lis:\n",
        "    l.append(i*i)\n",
        "  return l\n",
        "lis1=[23,14,67,54,98,14,3,65]\n",
        "print(\"The given list of integers is: \",lis1)\n",
        "print(\"The lis of the square of the numbers of the given list is: \", square(lis1))"
      ],
      "metadata": {
        "colab": {
          "base_uri": "https://localhost:8080/"
        },
        "id": "agrPgN_241RF",
        "outputId": "6cb619c3-032d-4abb-dc5e-a64bdd06842b"
      },
      "execution_count": null,
      "outputs": [
        {
          "output_type": "stream",
          "name": "stdout",
          "text": [
            "The given list of integers is:  [23, 14, 67, 54, 98, 14, 3, 65]\n",
            "The lis of the square of the numbers of the given list is:  [529, 196, 4489, 2916, 9604, 196, 9, 4225]\n"
          ]
        }
      ]
    },
    {
      "cell_type": "code",
      "source": [
        "#4.  Write a Python function that checks if a given number is prime or not from 1 to 200\n",
        "def check_prime(num):\n",
        "  prime=True\n",
        "  for i in range(2,num):\n",
        "    if num%i==0:\n",
        "      prime=False\n",
        "      break\n",
        "  return prime\n",
        "\n",
        "l=[]\n",
        "for i in range(2,201):\n",
        "  if check_prime(i)==True: l.append(i)\n",
        "print(\"The prime numbers from 1 to 200 is: \",l)"
      ],
      "metadata": {
        "colab": {
          "base_uri": "https://localhost:8080/"
        },
        "id": "BbsmWw3n5nEX",
        "outputId": "375bf8af-6c89-48ca-ef27-a4a497347ed3"
      },
      "execution_count": null,
      "outputs": [
        {
          "output_type": "stream",
          "name": "stdout",
          "text": [
            "The prime numbers from 1 to 200 is:  [2, 3, 5, 7, 11, 13, 17, 19, 23, 29, 31, 37, 41, 43, 47, 53, 59, 61, 67, 71, 73, 79, 83, 89, 97, 101, 103, 107, 109, 113, 127, 131, 137, 139, 149, 151, 157, 163, 167, 173, 179, 181, 191, 193, 197, 199]\n"
          ]
        }
      ]
    },
    {
      "cell_type": "code",
      "source": [
        "#5. Create an iterator class in Python that generates the Fibonacci sequence up to a specified number of\n",
        "#terms\n",
        "num=int(input(\"Enter the term upto which fibonacci series is to be printed: \"))\n",
        "f=0\n",
        "f1=1\n",
        "l=[f,f1]\n",
        "count=1\n",
        "a=iter(l)\n",
        "for i in range(num):\n",
        "  print(next(a),end=\" \")\n",
        "  f,f1=f1,f+f1\n",
        "  l.append(f1)"
      ],
      "metadata": {
        "id": "ExfJpT3h9RRr",
        "colab": {
          "base_uri": "https://localhost:8080/"
        },
        "outputId": "3e28a2fc-7402-414a-ece6-864da518a89b"
      },
      "execution_count": null,
      "outputs": [
        {
          "output_type": "stream",
          "name": "stdout",
          "text": [
            "Enter the term upto which fibonacci series is to be printed: 10\n",
            "0 1 1 2 3 5 8 13 21 34 "
          ]
        }
      ]
    },
    {
      "cell_type": "code",
      "source": [
        "#6.  Write a generator function in Python that yields the powers of 2 up to a given exponent\n",
        "def expo_gen(num):\n",
        "  for i in range(num+1):\n",
        "    yield (2**i)\n",
        "n=int(input(\"Enter the number upto which exponents of 2 is needed: \"))\n",
        "a=expo_gen(n)\n",
        "while True: print(next(a))"
      ],
      "metadata": {
        "colab": {
          "base_uri": "https://localhost:8080/",
          "height": 297
        },
        "id": "KfDjVmQYFvKO",
        "outputId": "c32fe725-4109-46a0-84ca-2ffd8fd86c73"
      },
      "execution_count": null,
      "outputs": [
        {
          "output_type": "stream",
          "name": "stdout",
          "text": [
            "Enter the number upto which exponents of 2 is needed: 5\n",
            "1\n",
            "2\n",
            "4\n",
            "8\n",
            "16\n",
            "32\n"
          ]
        },
        {
          "output_type": "error",
          "ename": "StopIteration",
          "evalue": "",
          "traceback": [
            "\u001b[0;31m---------------------------------------------------------------------------\u001b[0m",
            "\u001b[0;31mStopIteration\u001b[0m                             Traceback (most recent call last)",
            "\u001b[0;32m<ipython-input-13-ae16bf34bf16>\u001b[0m in \u001b[0;36m<cell line: 7>\u001b[0;34m()\u001b[0m\n\u001b[1;32m      5\u001b[0m \u001b[0mn\u001b[0m\u001b[0;34m=\u001b[0m\u001b[0mint\u001b[0m\u001b[0;34m(\u001b[0m\u001b[0minput\u001b[0m\u001b[0;34m(\u001b[0m\u001b[0;34m\"Enter the number upto which exponents of 2 is needed: \"\u001b[0m\u001b[0;34m)\u001b[0m\u001b[0;34m)\u001b[0m\u001b[0;34m\u001b[0m\u001b[0;34m\u001b[0m\u001b[0m\n\u001b[1;32m      6\u001b[0m \u001b[0ma\u001b[0m\u001b[0;34m=\u001b[0m\u001b[0mexpo_gen\u001b[0m\u001b[0;34m(\u001b[0m\u001b[0mn\u001b[0m\u001b[0;34m)\u001b[0m\u001b[0;34m\u001b[0m\u001b[0;34m\u001b[0m\u001b[0m\n\u001b[0;32m----> 7\u001b[0;31m \u001b[0;32mwhile\u001b[0m \u001b[0;32mTrue\u001b[0m\u001b[0;34m:\u001b[0m \u001b[0mprint\u001b[0m\u001b[0;34m(\u001b[0m\u001b[0mnext\u001b[0m\u001b[0;34m(\u001b[0m\u001b[0ma\u001b[0m\u001b[0;34m)\u001b[0m\u001b[0;34m)\u001b[0m\u001b[0;34m\u001b[0m\u001b[0;34m\u001b[0m\u001b[0m\n\u001b[0m",
            "\u001b[0;31mStopIteration\u001b[0m: "
          ]
        }
      ]
    },
    {
      "cell_type": "code",
      "source": [
        "#7.  Implement a generator function that reads a file line by line and yields each line as a string.\n",
        "\n",
        "def read_gen(s):\n",
        "  s1=\"\"\n",
        "  for i in s:\n",
        "    s1+=i\n",
        "    if i=='.':\n",
        "      yield s1\n",
        "      s1=\"\"\n",
        "str1=\"Johny Johny Yes pappa. Eating sugar no papppa. Telling lies no pappa.\"\n",
        "a=read_gen(str1)\n",
        "a"
      ],
      "metadata": {
        "colab": {
          "base_uri": "https://localhost:8080/"
        },
        "id": "SmC52XbTMpsG",
        "outputId": "2dec083c-fe08-493c-9e58-2de98c1cfe04"
      },
      "execution_count": null,
      "outputs": [
        {
          "output_type": "execute_result",
          "data": {
            "text/plain": [
              "<generator object read_gen at 0x7f3050dc6c00>"
            ]
          },
          "metadata": {},
          "execution_count": 17
        }
      ]
    },
    {
      "cell_type": "code",
      "source": [
        "next(a)"
      ],
      "metadata": {
        "colab": {
          "base_uri": "https://localhost:8080/",
          "height": 35
        },
        "id": "aKwZAu44PFbt",
        "outputId": "f49e5793-0d51-4b8c-be4f-8e59aaf43582"
      },
      "execution_count": null,
      "outputs": [
        {
          "output_type": "execute_result",
          "data": {
            "text/plain": [
              "'Johny Johny Yes pappa.'"
            ],
            "application/vnd.google.colaboratory.intrinsic+json": {
              "type": "string"
            }
          },
          "metadata": {},
          "execution_count": 18
        }
      ]
    },
    {
      "cell_type": "code",
      "source": [
        "next(a)"
      ],
      "metadata": {
        "colab": {
          "base_uri": "https://localhost:8080/",
          "height": 35
        },
        "id": "cOhFO7zbPMEL",
        "outputId": "b7d9d367-e673-486d-d5ea-deccae66d04d"
      },
      "execution_count": null,
      "outputs": [
        {
          "output_type": "execute_result",
          "data": {
            "text/plain": [
              "' Eating sugar no papppa.'"
            ],
            "application/vnd.google.colaboratory.intrinsic+json": {
              "type": "string"
            }
          },
          "metadata": {},
          "execution_count": 19
        }
      ]
    },
    {
      "cell_type": "code",
      "source": [
        "next(a)"
      ],
      "metadata": {
        "colab": {
          "base_uri": "https://localhost:8080/",
          "height": 35
        },
        "id": "WSSkNB6SPN_n",
        "outputId": "98d3dd37-f7ce-429c-f077-a544cb3ff187"
      },
      "execution_count": null,
      "outputs": [
        {
          "output_type": "execute_result",
          "data": {
            "text/plain": [
              "' Telling lies no pappa.'"
            ],
            "application/vnd.google.colaboratory.intrinsic+json": {
              "type": "string"
            }
          },
          "metadata": {},
          "execution_count": 20
        }
      ]
    },
    {
      "cell_type": "code",
      "source": [
        "#8.  Use a lambda function in Python to sort a list of tuples based on the second element of each tuple\n",
        "\n",
        "lis=[(21,54,67),(11,22,33),(34,76,23),(66,11,56)]\n",
        "x=sorted((map(lambda tup: tup[1],lis)))\n",
        "print(x)"
      ],
      "metadata": {
        "colab": {
          "base_uri": "https://localhost:8080/"
        },
        "id": "AJ-mvAXEPRIZ",
        "outputId": "7adcb0e8-6a0c-4427-ff59-95821683e132"
      },
      "execution_count": null,
      "outputs": [
        {
          "output_type": "stream",
          "name": "stdout",
          "text": [
            "[11, 22, 54, 76]\n"
          ]
        }
      ]
    },
    {
      "cell_type": "code",
      "source": [
        "#9.  Write a Python program that uses `map()` to convert a list of temperatures from Celsius to Fahrenheit\n",
        "\n",
        "cel=[24,54,35,44,12,9]\n",
        "far=list(map(lambda f:((9/5)*f+32),cel))\n",
        "print(far)"
      ],
      "metadata": {
        "colab": {
          "base_uri": "https://localhost:8080/"
        },
        "id": "YhpjPcWCMOTQ",
        "outputId": "e6287f83-079a-4d8f-c8d5-b127bdce3285"
      },
      "execution_count": null,
      "outputs": [
        {
          "output_type": "stream",
          "name": "stdout",
          "text": [
            "[75.2, 129.2, 95.0, 111.2, 53.6, 48.2]\n"
          ]
        }
      ]
    },
    {
      "cell_type": "code",
      "source": [
        " #10.Create a Python program that uses `filter()` to remove all the vowels from a given string.\n",
        "str1=input(\"Enter a string: \")\n",
        "str2=list(filter(lambda i: False if (i=='a' or i=='e' or i=='i'or i=='o' or i=='u') else True,str1))\n",
        "str2=''.join(str2)\n",
        "print(str2)"
      ],
      "metadata": {
        "colab": {
          "base_uri": "https://localhost:8080/"
        },
        "id": "iMouFOVuMSeb",
        "outputId": "217f6a9f-956e-4450-b185-f376d87aa673"
      },
      "execution_count": null,
      "outputs": [
        {
          "output_type": "stream",
          "name": "stdout",
          "text": [
            "Enter a string: apple\n",
            "ppl\n"
          ]
        }
      ]
    },
    {
      "cell_type": "code",
      "source": [
        "#11.Write a Python program, which returns a list with 2-tuples. Each tuple consists of the order number and the\n",
        "#product of the price per item and the quantity. The product should be increased by 10,- € if the value of the\n",
        "#order is smaller than 100,00 €.Write a Python program using lambda and map.\n",
        "\n",
        "acc_routine=[[34587,\"Learning Python,Mark Lutz\",4,40.95],[98762,\"Programming Python MarkLutz\",5,56.80],[77226,\"Head First Python, Paul Barry\",3,32.95],[88112,\"Einfurhung in Python, Bernd Klein\",3,24.99]]\n",
        "final=[tuple(map(lambda l: l[0],acc_routine)),tuple(map(lambda l: l[2]*l[3] if (l[2]*l[3])>10000 else (l[2]*l[3]+10),acc_routine))]\n",
        "print(final)"
      ],
      "metadata": {
        "colab": {
          "base_uri": "https://localhost:8080/"
        },
        "id": "-aleRsKHtvjD",
        "outputId": "51275e22-568e-41ea-b66b-74c61466bf61"
      },
      "execution_count": null,
      "outputs": [
        {
          "output_type": "stream",
          "name": "stdout",
          "text": [
            "[(34587, 98762, 77226, 88112), (173.8, 294.0, 108.85000000000001, 84.97)]\n"
          ]
        }
      ]
    }
  ]
}